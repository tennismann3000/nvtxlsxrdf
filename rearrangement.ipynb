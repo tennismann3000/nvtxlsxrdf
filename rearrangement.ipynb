{
 "cells": [
  {
   "cell_type": "code",
   "execution_count": 286,
   "metadata": {},
   "outputs": [],
   "source": [
    "import pandas as pd\n",
    "import numpy as np\n",
    "import os\n",
    "import re\n",
    "import rdflib\n",
    "from rdflib import Graph, Namespace, URIRef, BNode, Literal, RDF\n",
    "from rdflib.namespace import NamespaceManager\n",
    "from datetime import datetime"
   ]
  },
  {
   "cell_type": "code",
   "execution_count": 287,
   "metadata": {},
   "outputs": [],
   "source": [
    "owl = Namespace(\"http://www.w3.org/2002/07/owl#\")\n",
    "rdf = Namespace(\"http://www.w3.org/1999/02/22-rdf-syntax-ns#\")\n",
    "rdfs = Namespace(\"http://www.w3.org/2000/01/rdf-schema#\")\n",
    "wgs84_pos = Namespace(\"http://www.w3.org/2003/01/geo/wgs84_pos#\")\n",
    "edm = Namespace(\"http://www.europeana.eu/schemas/edm/\")\n",
    "dc = Namespace(\"http://purl.org/dc/elements/1.1/\")\n",
    "dct = Namespace(\"http://purl.org/dc/terms/\")\n",
    "nvt = Namespace(\"http://lod.iti-germany.de/resource/\")\n",
    "nvto = Namespace(\"http://lod.iti-germany.de/schema/nvto/\")"
   ]
  },
  {
   "cell_type": "code",
   "execution_count": 288,
   "metadata": {},
   "outputs": [],
   "source": [
    "class G(Graph):    \n",
    "    nsm = NamespaceManager(Graph())\n",
    "    nsm.bind(\"nvto\", \"http://lod.iti-germany.de/schema/nvto/\")\n",
    "    nsm.bind(\"nvt\", \"http://lod.iti-germany.de/resource/\")\n",
    "    nsm.bind(\"owl\", \"http://www.w3.org/2002/07/owl#\")\n",
    "    nsm.bind(\"rdf\", \"http://www.w3.org/1999/02/22-rdf-syntax-ns#\")\n",
    "    nsm.bind(\"rdfs\", \"http://www.w3.org/2000/01/rdf-schema#\")\n",
    "    nsm.bind(\"wgs84_pos\", \"http://www.w3.org/2003/01/geo/wgs84_pos#\")\n",
    "    nsm.bind(\"edm\", \"http://www.europeana.eu/schemas/edm/\")\n",
    "    nsm.bind(\"dc\", \"http://purl.org/dc/elements/1.1/\")\n",
    "    nsm.bind(\"dct\", \"http://purl.org/dc/terms/\")"
   ]
  },
  {
   "cell_type": "code",
   "execution_count": 289,
   "metadata": {},
   "outputs": [],
   "source": [
    "def bindbind(graph):\n",
    "    graph.bind(\"nvto\", \"http://lod.iti-germany.de/schema/nvto/\")\n",
    "    graph.bind(\"nvt\", \"http://lod.iti-germany.de/resource/\")\n",
    "    graph.bind(\"owl\", \"http://www.w3.org/2002/07/owl#\")\n",
    "    graph.bind(\"rdf\", \"http://www.w3.org/1999/02/22-rdf-syntax-ns#\")\n",
    "    graph.bind(\"rdfs\", \"http://www.w3.org/2000/01/rdf-schema#\")\n",
    "    graph.bind(\"wgs84_pos\", \"http://www.w3.org/2003/01/geo/wgs84_pos#\")\n",
    "    graph.bind(\"edm\", \"http://www.europeana.eu/schemas/edm/\")\n",
    "    graph.bind(\"dc\", \"http://purl.org/dc/elements/1.1/\")\n",
    "    graph.bind(\"dct\", \"http://purl.org/dc/terms/\")\n",
    "    return graph"
   ]
  },
  {
   "cell_type": "code",
   "execution_count": 290,
   "metadata": {},
   "outputs": [
    {
     "data": {
      "text/plain": [
       "[('xml', rdflib.term.URIRef('http://www.w3.org/XML/1998/namespace')),\n",
       " ('rdf', rdflib.term.URIRef('http://www.w3.org/1999/02/22-rdf-syntax-ns#')),\n",
       " ('rdfs', rdflib.term.URIRef('http://www.w3.org/2000/01/rdf-schema#')),\n",
       " ('xsd', rdflib.term.URIRef('http://www.w3.org/2001/XMLSchema#')),\n",
       " ('nvto', rdflib.term.URIRef('http://lod.iti-germany.de/schema/nvto/')),\n",
       " ('nvt', rdflib.term.URIRef('http://lod.iti-germany.de/resource/')),\n",
       " ('owl', rdflib.term.URIRef('http://www.w3.org/2002/07/owl#')),\n",
       " ('wgs84_pos', rdflib.term.URIRef('http://www.w3.org/2003/01/geo/wgs84_pos#')),\n",
       " ('edm', rdflib.term.URIRef('http://www.europeana.eu/schemas/edm/')),\n",
       " ('dc', rdflib.term.URIRef('http://purl.org/dc/elements/1.1/')),\n",
       " ('dct', rdflib.term.URIRef('http://purl.org/dc/terms/'))]"
      ]
     },
     "execution_count": 290,
     "metadata": {},
     "output_type": "execute_result"
    }
   ],
   "source": [
    "pr_graph = G(identifier=\"http://lod.iti-germany.de/contexts/productions\")\n",
    "ev_graph = G(identifier=\"http://lod.iti-germany.de/contexts/events\")\n",
    "vid_graph = G(identifier=\"http://lod.iti-germany.de/contexts/videos\")\n",
    "text_graph = G(identifier=\"http://lod.iti-germany.de/contexts/texts\")\n",
    "img_graph = G(identifier=\"http://lod.iti-germany.de/contexts/images\")\n",
    "aud_graph = G(identifier=\"http://lod.iti-germany.de/contexts/audio\")\n",
    "person_graph = G(identifier=\"http://lod.iti-germany.de/contexts/persons\")\n",
    "group_graph = G(identifier=\"http://lod.iti-germany.de/contexts/groups\")\n",
    "loc_graph = G(identifier=\"http://lod.iti-germany.de/contexts/locations\")\n",
    "city_graph = G(identifier=\"http://lod.iti-germany.de/contexts/cities\")\n",
    "country_graph = G(identifier=\"http://lod.iti-germany.de/contexts/countries\")\n",
    "col_graph = G(identifier=\"http://lod.iti-germany.de/contexts/collections\")\n",
    "series_graph = G(identifier=\"http://lGod.iti-germany.de/contexts/series\")\n",
    "concept_graph = G(identifier=\"http://lod.iti-germany.de/contexts/concepts\")\n",
    "graph_list = [pr_graph, ev_graph, vid_graph, text_graph, img_graph, aud_graph, person_graph, group_graph, loc_graph, city_graph, country_graph, col_graph, series_graph, concept_graph]\n",
    "[n for n in pr_graph.namespaces()]\n",
    "[n for n in pr_graph.nsm.namespaces()]"
   ]
  },
  {
   "cell_type": "code",
   "execution_count": 292,
   "metadata": {},
   "outputs": [],
   "source": [
    "for i in graph_list:\n",
    "    i = bindbind(i)"
   ]
  },
  {
   "cell_type": "code",
   "execution_count": 294,
   "metadata": {},
   "outputs": [
    {
     "data": {
      "text/plain": [
       "[('xml', rdflib.term.URIRef('http://www.w3.org/XML/1998/namespace')),\n",
       " ('rdf', rdflib.term.URIRef('http://www.w3.org/1999/02/22-rdf-syntax-ns#')),\n",
       " ('rdfs', rdflib.term.URIRef('http://www.w3.org/2000/01/rdf-schema#')),\n",
       " ('xsd', rdflib.term.URIRef('http://www.w3.org/2001/XMLSchema#')),\n",
       " ('nvto', rdflib.term.URIRef('http://lod.iti-germany.de/schema/nvto/')),\n",
       " ('nvt', rdflib.term.URIRef('http://lod.iti-germany.de/resource/')),\n",
       " ('owl', rdflib.term.URIRef('http://www.w3.org/2002/07/owl#')),\n",
       " ('wgs84_pos', rdflib.term.URIRef('http://www.w3.org/2003/01/geo/wgs84_pos#')),\n",
       " ('edm', rdflib.term.URIRef('http://www.europeana.eu/schemas/edm/')),\n",
       " ('dc', rdflib.term.URIRef('http://purl.org/dc/elements/1.1/')),\n",
       " ('dct', rdflib.term.URIRef('http://purl.org/dc/terms/'))]"
      ]
     },
     "execution_count": 294,
     "metadata": {},
     "output_type": "execute_result"
    }
   ],
   "source": [
    "[n for n in pr_graph.namespaces()]"
   ]
  },
  {
   "cell_type": "code",
   "execution_count": 262,
   "metadata": {},
   "outputs": [],
   "source": [
    "xl = pd.ExcelFile('./NVT_Metadatentabelle_MASTER.xlsm') ## load Excel File to display sheet_names"
   ]
  },
  {
   "cell_type": "code",
   "execution_count": 263,
   "metadata": {},
   "outputs": [
    {
     "data": {
      "text/plain": [
       "['Produktionen',\n",
       " 'Ereignisse',\n",
       " 'Objekte VIDEOS',\n",
       " 'Objekte TEXT',\n",
       " 'Objekte BILD',\n",
       " 'Objekte AUDIO',\n",
       " '||_Personen',\n",
       " '||_Gruppen_Ensembles',\n",
       " '||_Veranstaltungsort',\n",
       " '||_Städte',\n",
       " '||_Länder',\n",
       " 'Sammlungen',\n",
       " 'Serie',\n",
       " 'TYPEN und GLOSSARE',\n",
       " 'Fragen und Dok',\n",
       " 'TODOs',\n",
       " 'Legende',\n",
       " 'Unterobjekt Beispiele',\n",
       " 'Übersicht']"
      ]
     },
     "execution_count": 263,
     "metadata": {},
     "output_type": "execute_result"
    }
   ],
   "source": [
    "xl.sheet_names  ## display sheet_names"
   ]
  },
  {
   "cell_type": "code",
   "execution_count": 264,
   "metadata": {},
   "outputs": [],
   "source": [
    "def merge_columns(df, col1, col2, result=None):\n",
    "    ## noch ein bisschen sauberer wäre gut, zeilenumbruch nach beschreibung vllt und personennamen in richtiger schreibweise\n",
    "    if result == \"season\":\n",
    "        col3 = \"Spielzeit\"\n",
    "        df.loc[df[col1].notna() & df[col2].notna(), col3] = \"season_\" + df[\"ID\"] + \"_\" + df[col1].apply(str).str[:4] + \"_\" + pr_clean[col2].apply(str).str[:4]\n",
    "        df.loc[df[col1].notna() & df[col2].isna(), col3] = \"season_\" + df[\"ID\"] + \"_\" + df[col1].apply(str).str[:4]\n",
    "        df.loc[df[col1].isna() & df[col2].notna(), col3] = \"season_\" + df[\"ID\"] + \"_\" + df[col2].apply(str).str[:4]\n",
    "        return df\n",
    "    elif result == \"description\":\n",
    "        col3 = \"Beschreibung_Quelle\"\n",
    "        df.loc[df[col1].notna() & df[col2].notna(), col3] = \"Beschreibung: \" + pr_clean[col1] + \" Quelle: \" + pr_clean[col2]\n",
    "        df.loc[df[col1].notna() & df[col2].isna(), col3] = \"Beschreibung: \" + pr_clean[col1]\n",
    "        df.loc[df[col1].isna() & df[col2].notna(), col3] = \" Quelle: \" + pr_clean[col2]\n",
    "        return df\n",
    "    elif result == \"texts\":\n",
    "        col3 = \"Texte_Autoren\"\n",
    "        df[col2] = peoplereplace(df[col2])\n",
    "        df.loc[df[col1].notna() & df[col2].notna(), col3] = \"Text(e): \" + pr_clean[col1] + \" Autor(en): \" + pr_clean[col2]\n",
    "        df.loc[df[col1].notna() & df[col2].isna(), col3] = \"Text(e): \" + pr_clean[col1]\n",
    "        df.loc[df[col1].isna() & df[col2].notna(), col3] = \"Autor(en): \" + pr_clean[col2]\n",
    "        return df\n",
    "    else:\n",
    "        print(\"Wrong Keyword, nothing happened\")\n",
    "        return df"
   ]
  },
  {
   "cell_type": "code",
   "execution_count": 265,
   "metadata": {},
   "outputs": [],
   "source": [
    "def globalcolumnrename(columns):\n",
    "    None\n",
    "##   columns = {'Identifier / geeinigter Name':'ID', ## renames columns for future reference\n",
    "##                                         'Produktionsname / Titel':'PR_Titel',\n",
    "##                                         'Quelle (Beschreibung)':'Q_Beschreibung',\n",
    "##                                         'Verwendete Texte':'Verwxendete_Texte',\n",
    "##                                         'Autor(en) der Texte':'Autoren_Texte',\n",
    "##                                         'Beteiligte Gruppen / Compagnies':'Beteiligte_Gruppen',\n",
    "##                                         'Sprecher*in':'SprecherIn',\n",
    "##                                         'Darsteller allgem.':'Darsteller',\n",
    "##                                         'Weitere Mitwirkende':'Mitwirkende',\n",
    "##                                         'Spielzeit / Laufzeit Start':'Spielzeit_Start',\n",
    "##                                         'Spielzeit / Laufzeit Ende':'Spielzeit_Ende'\n",
    "##                          } \n",
    "##   ## uvm, alle spaltennamen aus allen reitern holen und dann doppelte einträge entfernen \n",
    "##   ##(erst sicherstellen, dass nicht manche spaltennamen für verschiedene Bedeutungen genutzt werden)\n",
    "    "
   ]
  },
  {
   "cell_type": "code",
   "execution_count": 266,
   "metadata": {},
   "outputs": [],
   "source": [
    "def supersplit(df):\n",
    "    ## for more convenient str splitting within the columns (expand=false), mainly for splitting all URIs\n",
    "    df = df.str.split(\";\", expand = False) \n",
    "    return df"
   ]
  },
  {
   "cell_type": "code",
   "execution_count": 267,
   "metadata": {},
   "outputs": [],
   "source": [
    "def peoplereplace(df):\n",
    "    ## temporary string beautifier for persons as literal values\n",
    "    df = df.str.replace(\"_\",\" \")\n",
    "    df = df.str.replace(\",\", \" \")\n",
    "    df = df.str.replace(\";\", \"; \")\n",
    "    return df"
   ]
  },
  {
   "cell_type": "code",
   "execution_count": 268,
   "metadata": {},
   "outputs": [],
   "source": [
    "def refreplace(df):\n",
    "    ## string converter for URIs\n",
    "    df = df.str.lower()\n",
    "    df = df.str.replace(\"ä\", \"ae\")\n",
    "    df = df.str.replace(\"ö\",\"oe\")\n",
    "    df = df.str.replace(\"ü\",\"ue\")\n",
    "    df = df.str.replace(\"ß\",\"ss\")\n",
    "    df = df.str.replace(\"!?,\\.\", \"\")\n",
    "    df = df.str.replace(\"[^a-zA-Z0-9;]\", \"_\")\n",
    "    df = df.str.replace(\"__\", \"_\")\n",
    "    df = df.str.strip(\"_\")\n",
    "    return df"
   ]
  },
  {
   "cell_type": "code",
   "execution_count": 269,
   "metadata": {},
   "outputs": [],
   "source": [
    "def splitreplace(df):\n",
    "    ## combines refreplace and supersplit in correct order for they are both always used for any columns containing URIs\n",
    "    df = df.apply(refreplace, axis=1)\n",
    "    df = df.apply(supersplit, axis=1)\n",
    "    return df"
   ]
  },
  {
   "cell_type": "code",
   "execution_count": 270,
   "metadata": {},
   "outputs": [],
   "source": [
    "def columnref(df, sheet=None):\n",
    "    ## erst Referenzliste mit Index, dann ->\n",
    "    ## Referenzliste zum splitten und replacen; I=ID R=reference L=literal N=None refreplace für I und R, split für R, erst split dann refreplace\n",
    "    for idx, i in enumerate(df.columns):\n",
    "        idxx = str(idx).zfill(2)\n",
    "        print(idxx, i)\n",
    "    if sheet == \"Produktionen\":\n",
    "        for idx, i in enumerate(df.columns):\n",
    "            idxx = str(idx).zfill(2)\n",
    "            if idx == 0:\n",
    "                print(\"Referenzliste zum splitten und replacen; I=ID R=reference L=literal N=None\\n\\nrefreplace für I und R, split für R, erst split dann refreplace\\n\")\n",
    "                print([\"I\", idxx, i])\n",
    "            elif idx in range(6, 27) or idx in range(31, 35):\n",
    "                print([\"R\", idxx, i])\n",
    "            elif idx in range(2, 6):\n",
    "                print([\"N\", idxx])\n",
    "            else:\n",
    "                print([\"L\", idxx, i])"
   ]
  },
  {
   "cell_type": "code",
   "execution_count": 271,
   "metadata": {},
   "outputs": [],
   "source": [
    "## events = pd.read_excel('./NVT_Metadatentabelle_MASTER.xlsm', sheet_name='Ereignisse')"
   ]
  },
  {
   "cell_type": "code",
   "execution_count": 272,
   "metadata": {},
   "outputs": [],
   "source": [
    "productions = pd.read_excel('./NVT_Metadatentabelle_MASTER.xlsm', sheet_name='Produktionen', header=1) ## load productions sheet with header in row 1 (row 0 is ignored i think)"
   ]
  },
  {
   "cell_type": "code",
   "execution_count": 273,
   "metadata": {},
   "outputs": [],
   "source": [
    "pr_clean = (productions[productions['Identifier / geeinigter Name'].str.contains('PR', na=False)] ## drops all rows that don't start with 'PR' or are NaN\n",
    "           .drop(['Musik (für GEMA)'], axis='columns') ## drops unmodeled column\n",
    "           .drop([2]) ## drops example row\n",
    "           .reset_index(drop=True) ## resets index to be continouus\n",
    "           .rename(columns={'Identifier / geeinigter Name':'ID', ## renames columns for future reference\n",
    "                                          'Produktionsname / Titel':'PR_Titel',\n",
    "                                          'Quelle (Beschreibung)':'Q_Beschreibung',\n",
    "                                          'Verwendete Texte':'Verwendete_Texte',\n",
    "                                          'Autor(en) der Texte':'Autoren_Texte',\n",
    "                                          'Beteiligte Gruppen / Compagnies':'Beteiligte_Gruppen',\n",
    "                                          'Sprecher*in':'SprecherIn',\n",
    "                                          'Darsteller allgem.':'Darsteller',\n",
    "                                          'Weitere Mitwirkende':'Mitwirkende',\n",
    "                                          'Spielzeit / Laufzeit Start':'Spielzeit_Start',\n",
    "                                          'Spielzeit / Laufzeit Ende':'Spielzeit_Ende'\n",
    "                           })\n",
    "           )"
   ]
  },
  {
   "cell_type": "code",
   "execution_count": 274,
   "metadata": {},
   "outputs": [],
   "source": [
    "pr_clean = merge_columns(pr_clean, \"Spielzeit_Start\", \"Spielzeit_Ende\", result = \"season\")\n",
    "pr_clean = merge_columns(pr_clean, \"Verwendete_Texte\", \"Autoren_Texte\", result = \"texts\") ## in Zukunft müssten die Autoren mit der Personentabelle abgeglichen werden, am besten trotzdem noch als literal\n",
    "pr_clean = merge_columns(pr_clean, \"Beschreibung\", \"Q_Beschreibung\", result = \"description\")"
   ]
  },
  {
   "cell_type": "code",
   "execution_count": 275,
   "metadata": {},
   "outputs": [],
   "source": [
    "## columnref(pr_clean, sheet=\"Produktionen\")"
   ]
  },
  {
   "cell_type": "code",
   "execution_count": 276,
   "metadata": {},
   "outputs": [],
   "source": [
    "pr_clean.iloc[:, [0]] = splitreplace(pr_clean.iloc[:, [0]])\n",
    "pr_clean.iloc[:, 6:27] = splitreplace(pr_clean.iloc[:, 6:27])\n",
    "pr_clean.iloc[:, 31:35] = splitreplace(pr_clean.iloc[:, 31:35])"
   ]
  },
  {
   "cell_type": "code",
   "execution_count": 306,
   "metadata": {},
   "outputs": [],
   "source": [
    "# pr_clean.to_excel(\"output_pr_clean.xlsx\")"
   ]
  },
  {
   "cell_type": "code",
   "execution_count": 312,
   "metadata": {},
   "outputs": [],
   "source": [
    "pr_clean_test = pr_clean.fillna(\"NA\")"
   ]
  },
  {
   "cell_type": "code",
   "execution_count": 295,
   "metadata": {},
   "outputs": [],
   "source": [
    "for i in pr_clean.iloc[:, 0]:\n",
    "    for j in i:\n",
    "        pr_graph.add((nvt[str(j)], rdf.type, nvto.PerformingArtsProduction))"
   ]
  },
  {
   "cell_type": "code",
   "execution_count": 315,
   "metadata": {},
   "outputs": [],
   "source": [
    "for i in pr_clean_test.iloc[:, 11]:\n",
    "    if i != \"NA\":\n",
    "        for j in i:\n",
    "            person_graph.add((nvt[str(j)], rdf.type, nvto.Agent))\n",
    "  #      pr_graph.add((nvt[str(j)], rdf.type, nvto.Agent))"
   ]
  },
  {
   "cell_type": "code",
   "execution_count": 316,
   "metadata": {},
   "outputs": [],
   "source": [
    "with open('results.ttl', 'wb') as f_ttl:\n",
    "    f_ttl.write(pr_graph.serialize(format=\"turtle\"))"
   ]
  },
  {
   "cell_type": "code",
   "execution_count": 319,
   "metadata": {},
   "outputs": [],
   "source": [
    "with open('person.ttl', 'wb') as f_ttl:\n",
    "    f_ttl.write(person_graph.serialize(format=\"turtle\"))"
   ]
  },
  {
   "cell_type": "code",
   "execution_count": 302,
   "metadata": {},
   "outputs": [
    {
     "name": "stdout",
     "output_type": "stream",
     "text": [
      "1\n",
      "3\n",
      "4\n",
      "2\n",
      "4\n",
      "4\n",
      "3\n",
      "4\n",
      "5\n"
     ]
    }
   ],
   "source": [
    "a = [[1, 3, 4], [2, 4, 4], [3, 4, 5],]\n",
    "for i in a:\n",
    "    for j in i:\n",
    "        print(j)"
   ]
  },
  {
   "cell_type": "code",
   "execution_count": null,
   "metadata": {},
   "outputs": [],
   "source": []
  },
  {
   "cell_type": "code",
   "execution_count": null,
   "metadata": {},
   "outputs": [],
   "source": []
  },
  {
   "cell_type": "code",
   "execution_count": null,
   "metadata": {},
   "outputs": [],
   "source": []
  },
  {
   "cell_type": "code",
   "execution_count": null,
   "metadata": {},
   "outputs": [],
   "source": []
  },
  {
   "cell_type": "code",
   "execution_count": null,
   "metadata": {},
   "outputs": [],
   "source": []
  },
  {
   "cell_type": "code",
   "execution_count": null,
   "metadata": {},
   "outputs": [],
   "source": []
  },
  {
   "cell_type": "code",
   "execution_count": null,
   "metadata": {},
   "outputs": [],
   "source": []
  },
  {
   "cell_type": "code",
   "execution_count": null,
   "metadata": {},
   "outputs": [],
   "source": []
  }
 ],
 "metadata": {
  "kernelspec": {
   "display_name": "Python 3",
   "language": "python",
   "name": "python3"
  },
  "language_info": {
   "codemirror_mode": {
    "name": "ipython",
    "version": 3
   },
   "file_extension": ".py",
   "mimetype": "text/x-python",
   "name": "python",
   "nbconvert_exporter": "python",
   "pygments_lexer": "ipython3",
   "version": "3.7.3"
  }
 },
 "nbformat": 4,
 "nbformat_minor": 2
}
