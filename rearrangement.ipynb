{
 "cells": [
  {
   "cell_type": "code",
   "execution_count": 801,
   "metadata": {},
   "outputs": [],
   "source": [
    "import pandas as pd\n",
    "import numpy as np\n",
    "import os\n",
    "import re\n",
    "import time\n",
    "import rdflib\n",
    "from rdflib import Graph, Namespace, URIRef, BNode, Literal, RDF\n",
    "from rdflib.namespace import NamespaceManager\n",
    "from datetime import datetime"
   ]
  },
  {
   "cell_type": "code",
   "execution_count": 802,
   "metadata": {},
   "outputs": [],
   "source": [
    "owl = Namespace(\"http://www.w3.org/2002/07/owl#\")\n",
    "rdf = Namespace(\"http://www.w3.org/1999/02/22-rdf-syntax-ns#\")\n",
    "rdfs = Namespace(\"http://www.w3.org/2000/01/rdf-schema#\")\n",
    "wgs84_pos = Namespace(\"http://www.w3.org/2003/01/geo/wgs84_pos#\")\n",
    "edm = Namespace(\"http://www.europeana.eu/schemas/edm/\")\n",
    "dc = Namespace(\"http://purl.org/dc/elements/1.1/\")\n",
    "dcterms = Namespace(\"http://purl.org/dc/terms/\")\n",
    "nvt = Namespace(\"http://lod.iti-germany.de/resource/\")\n",
    "nvto = Namespace(\"http://lod.iti-germany.de/schema/nvto/\")\n",
    "skos = Namespace(\"http://www.w3.org/2004/02/skos/core#\")"
   ]
  },
  {
   "cell_type": "code",
   "execution_count": 803,
   "metadata": {},
   "outputs": [],
   "source": [
    "class G(Graph):    \n",
    "    nsm = NamespaceManager(Graph())\n",
    "    nsm.bind(\"nvto\", \"http://lod.iti-germany.de/schema/nvto/\")\n",
    "    nsm.bind(\"nvt\", \"http://lod.iti-germany.de/resource/\")\n",
    "    nsm.bind(\"owl\", \"http://www.w3.org/2002/07/owl#\")\n",
    "    nsm.bind(\"rdf\", \"http://www.w3.org/1999/02/22-rdf-syntax-ns#\")\n",
    "    nsm.bind(\"rdfs\", \"http://www.w3.org/2000/01/rdf-schema#\")\n",
    "    nsm.bind(\"wgs84_pos\", \"http://www.w3.org/2003/01/geo/wgs84_pos#\")\n",
    "    nsm.bind(\"edm\", \"http://www.europeana.eu/schemas/edm/\")\n",
    "    nsm.bind(\"dc\", \"http://purl.org/dc/elements/1.1/\")\n",
    "    nsm.bind(\"dct\", \"http://purl.org/dc/terms/\")"
   ]
  },
  {
   "cell_type": "code",
   "execution_count": 804,
   "metadata": {},
   "outputs": [],
   "source": [
    "def bindbind(graph):\n",
    "    graph.bind(\"nvto\", \"http://lod.iti-germany.de/schema/nvto/\")\n",
    "    graph.bind(\"nvt\", \"http://lod.iti-germany.de/resource/\")\n",
    "    graph.bind(\"owl\", \"http://www.w3.org/2002/07/owl#\")\n",
    "    graph.bind(\"rdf\", \"http://www.w3.org/1999/02/22-rdf-syntax-ns#\")\n",
    "    graph.bind(\"rdfs\", \"http://www.w3.org/2000/01/rdf-schema#\")\n",
    "    graph.bind(\"wgs84_pos\", \"http://www.w3.org/2003/01/geo/wgs84_pos#\")\n",
    "    graph.bind(\"edm\", \"http://www.europeana.eu/schemas/edm/\")\n",
    "    graph.bind(\"dc\", \"http://purl.org/dc/elements/1.1/\")\n",
    "    graph.bind(\"dcterms\", \"http://purl.org/dc/terms/\")\n",
    "    graph.bind(\"skos\", \"http://www.w3.org/2004/02/skos/core#\")\n",
    "    return graph"
   ]
  },
  {
   "cell_type": "code",
   "execution_count": 805,
   "metadata": {},
   "outputs": [
    {
     "data": {
      "text/plain": [
       "[('xml', rdflib.term.URIRef('http://www.w3.org/XML/1998/namespace')),\n",
       " ('rdf', rdflib.term.URIRef('http://www.w3.org/1999/02/22-rdf-syntax-ns#')),\n",
       " ('rdfs', rdflib.term.URIRef('http://www.w3.org/2000/01/rdf-schema#')),\n",
       " ('xsd', rdflib.term.URIRef('http://www.w3.org/2001/XMLSchema#')),\n",
       " ('nvto', rdflib.term.URIRef('http://lod.iti-germany.de/schema/nvto/')),\n",
       " ('nvt', rdflib.term.URIRef('http://lod.iti-germany.de/resource/')),\n",
       " ('owl', rdflib.term.URIRef('http://www.w3.org/2002/07/owl#')),\n",
       " ('wgs84_pos', rdflib.term.URIRef('http://www.w3.org/2003/01/geo/wgs84_pos#')),\n",
       " ('edm', rdflib.term.URIRef('http://www.europeana.eu/schemas/edm/')),\n",
       " ('dc', rdflib.term.URIRef('http://purl.org/dc/elements/1.1/')),\n",
       " ('dct', rdflib.term.URIRef('http://purl.org/dc/terms/'))]"
      ]
     },
     "execution_count": 805,
     "metadata": {},
     "output_type": "execute_result"
    }
   ],
   "source": [
    "pr_graph = G(identifier=\"http://lod.iti-germany.de/contexts/productions\")\n",
    "ev_graph = G(identifier=\"http://lod.iti-germany.de/contexts/events\")\n",
    "vid_graph = G(identifier=\"http://lod.iti-germany.de/contexts/videos\")\n",
    "text_graph = G(identifier=\"http://lod.iti-germany.de/contexts/texts\")\n",
    "img_graph = G(identifier=\"http://lod.iti-germany.de/contexts/images\")\n",
    "aud_graph = G(identifier=\"http://lod.iti-germany.de/contexts/audio\")\n",
    "person_graph = G(identifier=\"http://lod.iti-germany.de/contexts/persons\")\n",
    "group_graph = G(identifier=\"http://lod.iti-germany.de/contexts/groups\")\n",
    "loc_graph = G(identifier=\"http://lod.iti-germany.de/contexts/locations\")\n",
    "city_graph = G(identifier=\"http://lod.iti-germany.de/contexts/cities\")\n",
    "country_graph = G(identifier=\"http://lod.iti-germany.de/contexts/countries\")\n",
    "col_graph = G(identifier=\"http://lod.iti-germany.de/contexts/collections\")\n",
    "series_graph = G(identifier=\"http://lGod.iti-germany.de/contexts/series\")\n",
    "concept_graph = G(identifier=\"http://lod.iti-germany.de/contexts/concepts\")\n",
    "graph_list = [pr_graph, ev_graph, vid_graph, text_graph, img_graph, aud_graph, person_graph, group_graph, loc_graph, city_graph, country_graph, col_graph, series_graph, concept_graph]\n",
    "[n for n in pr_graph.namespaces()]\n",
    "[n for n in pr_graph.nsm.namespaces()]"
   ]
  },
  {
   "cell_type": "code",
   "execution_count": 806,
   "metadata": {},
   "outputs": [],
   "source": [
    "for i in graph_list:\n",
    "    i = bindbind(i)"
   ]
  },
  {
   "cell_type": "code",
   "execution_count": 807,
   "metadata": {},
   "outputs": [
    {
     "data": {
      "text/plain": [
       "[('xml', rdflib.term.URIRef('http://www.w3.org/XML/1998/namespace')),\n",
       " ('rdf', rdflib.term.URIRef('http://www.w3.org/1999/02/22-rdf-syntax-ns#')),\n",
       " ('rdfs', rdflib.term.URIRef('http://www.w3.org/2000/01/rdf-schema#')),\n",
       " ('xsd', rdflib.term.URIRef('http://www.w3.org/2001/XMLSchema#')),\n",
       " ('nvto', rdflib.term.URIRef('http://lod.iti-germany.de/schema/nvto/')),\n",
       " ('nvt', rdflib.term.URIRef('http://lod.iti-germany.de/resource/')),\n",
       " ('owl', rdflib.term.URIRef('http://www.w3.org/2002/07/owl#')),\n",
       " ('wgs84_pos', rdflib.term.URIRef('http://www.w3.org/2003/01/geo/wgs84_pos#')),\n",
       " ('edm', rdflib.term.URIRef('http://www.europeana.eu/schemas/edm/')),\n",
       " ('dc', rdflib.term.URIRef('http://purl.org/dc/elements/1.1/')),\n",
       " ('dcterms', rdflib.term.URIRef('http://purl.org/dc/terms/')),\n",
       " ('skos', rdflib.term.URIRef('http://www.w3.org/2004/02/skos/core#'))]"
      ]
     },
     "execution_count": 807,
     "metadata": {},
     "output_type": "execute_result"
    }
   ],
   "source": [
    "[n for n in pr_graph.namespaces()]"
   ]
  },
  {
   "cell_type": "code",
   "execution_count": 808,
   "metadata": {},
   "outputs": [],
   "source": [
    "xl = pd.ExcelFile('./NVT_Metadatentabelle_MASTER.xlsm') ## load Excel File to display sheet_names"
   ]
  },
  {
   "cell_type": "code",
   "execution_count": 809,
   "metadata": {},
   "outputs": [
    {
     "data": {
      "text/plain": [
       "['Produktionen',\n",
       " 'Ereignisse',\n",
       " 'Objekte VIDEOS',\n",
       " 'Objekte TEXT',\n",
       " 'Objekte BILD',\n",
       " 'Objekte AUDIO',\n",
       " '||_Personen',\n",
       " '||_Gruppen_Ensembles',\n",
       " '||_Veranstaltungsort',\n",
       " '||_Städte',\n",
       " '||_Länder',\n",
       " 'Sammlungen',\n",
       " 'Serie',\n",
       " 'TYPEN und GLOSSARE',\n",
       " 'Fragen und Dok',\n",
       " 'TODOs',\n",
       " 'Legende',\n",
       " 'Unterobjekt Beispiele',\n",
       " 'Übersicht']"
      ]
     },
     "execution_count": 809,
     "metadata": {},
     "output_type": "execute_result"
    }
   ],
   "source": [
    "xl.sheet_names  ## display sheet_names"
   ]
  },
  {
   "cell_type": "code",
   "execution_count": 810,
   "metadata": {},
   "outputs": [],
   "source": [
    "def merge_columns(df, col1, col2, result=None):\n",
    "    ## noch ein bisschen sauberer wäre gut, zeilenumbruch nach beschreibung vllt und personennamen in richtiger schreibweise\n",
    "    if result == \"season\":\n",
    "        col3 = \"Spielzeit\"\n",
    "        df.loc[df[col1].notna() & df[col2].notna(), col3] = \"season_\" + df[\"ID\"] + \"_\" + df[col1].apply(str).str[:4] + \"_\" + pr_clean[col2].apply(str).str[:4]\n",
    "        df.loc[df[col1].notna() & df[col2].isna(), col3] = \"season_\" + df[\"ID\"] + \"_\" + df[col1].apply(str).str[:4]\n",
    "        df.loc[df[col1].isna() & df[col2].notna(), col3] = \"season_\" + df[\"ID\"] + \"_\" + df[col2].apply(str).str[:4]\n",
    "        return df\n",
    "    elif result == \"description\":\n",
    "        col3 = \"Beschreibung_Quelle\"\n",
    "        df.loc[df[col1].notna() & df[col2].notna(), col3] = \"Beschreibung: \" + pr_clean[col1] + \" Quelle: \" + pr_clean[col2]\n",
    "        df.loc[df[col1].notna() & df[col2].isna(), col3] = \"Beschreibung: \" + pr_clean[col1]\n",
    "        df.loc[df[col1].isna() & df[col2].notna(), col3] = \" Quelle: \" + pr_clean[col2]\n",
    "        return df\n",
    "    elif result == \"texts\":\n",
    "        col3 = \"Texte_Autoren\"\n",
    "        df[col2] = peoplereplace(df[col2])\n",
    "        df.loc[df[col1].notna() & df[col2].notna(), col3] = \"Text(e): \" + pr_clean[col1] + \" Autor(en): \" + pr_clean[col2]\n",
    "        df.loc[df[col1].notna() & df[col2].isna(), col3] = \"Text(e): \" + pr_clean[col1]\n",
    "        df.loc[df[col1].isna() & df[col2].notna(), col3] = \"Autor(en): \" + pr_clean[col2]\n",
    "        return df\n",
    "    else:\n",
    "        print(\"Wrong Keyword, nothing happened\")\n",
    "        return df"
   ]
  },
  {
   "cell_type": "code",
   "execution_count": 811,
   "metadata": {},
   "outputs": [],
   "source": [
    "def globalcolumnrename(columns):\n",
    "    None\n",
    "##   columns = {'Identifier / geeinigter Name':'ID', ## renames columns for future reference\n",
    "##                                         'Produktionsname / Titel':'PR_Titel',\n",
    "##                                         'Quelle (Beschreibung)':'Q_Beschreibung',\n",
    "##                                         'Verwendete Texte':'Verwxendete_Texte',\n",
    "##                                         'Autor(en) der Texte':'Autoren_Texte',\n",
    "##                                         'Beteiligte Gruppen / Compagnies':'Beteiligte_Gruppen',\n",
    "##                                         'Sprecher*in':'SprecherIn',\n",
    "##                                         'Darsteller allgem.':'Darsteller',\n",
    "##                                         'Weitere Mitwirkende':'Mitwirkende',\n",
    "##                                         'Spielzeit / Laufzeit Start':'Spielzeit_Start',\n",
    "##                                         'Spielzeit / Laufzeit Ende':'Spielzeit_Ende'\n",
    "##                          } \n",
    "##   ## uvm, alle spaltennamen aus allen reitern holen und dann doppelte einträge entfernen \n",
    "##   ##(erst sicherstellen, dass nicht manche spaltennamen für verschiedene Bedeutungen genutzt werden)\n",
    "    "
   ]
  },
  {
   "cell_type": "code",
   "execution_count": 812,
   "metadata": {},
   "outputs": [],
   "source": [
    "def peoplereplace(df):\n",
    "    ## temporary string beautifier for persons as literal values\n",
    "    df = df.str.replace(\"_\",\" \")\n",
    "    df = df.str.replace(\",\", \" \")\n",
    "    df = df.str.replace(\";\", \"; \")\n",
    "    return df"
   ]
  },
  {
   "cell_type": "code",
   "execution_count": 813,
   "metadata": {},
   "outputs": [],
   "source": [
    "def refreplace(df):\n",
    "    ## string converter for URIs\n",
    "    df = df.str.lower()\n",
    "    df = df.str.replace(\"ä\", \"ae\")\n",
    "    df = df.str.replace(\"ö\",\"oe\")\n",
    "    df = df.str.replace(\"ü\",\"ue\")\n",
    "    df = df.str.replace(\"ß\",\"ss\")\n",
    "    df = df.str.replace(\"!?,\\.\", \"\")\n",
    "    df = df.str.replace(\"[^a-zA-Z0-9;]\", \"_\")\n",
    "    df = df.str.replace(\"__\", \"_\")\n",
    "    df = df.str.strip(\"_\")\n",
    "    return df"
   ]
  },
  {
   "cell_type": "code",
   "execution_count": 814,
   "metadata": {},
   "outputs": [],
   "source": [
    "def supersplit(df):\n",
    "    ## for more convenient str splitting within the columns (expand=false), mainly for splitting all URIs\n",
    "    df = df.str.split(\";\", expand = False) \n",
    "    return df"
   ]
  },
  {
   "cell_type": "code",
   "execution_count": 815,
   "metadata": {},
   "outputs": [],
   "source": [
    "def splitreplace(df):\n",
    "    ## combines refreplace and supersplit in correct order for they are both always used for any columns containing URIs\n",
    "    df = df.apply(refreplace, axis=1)\n",
    "    df = df.apply(supersplit, axis=1)\n",
    "    return df"
   ]
  },
  {
   "cell_type": "code",
   "execution_count": 816,
   "metadata": {},
   "outputs": [],
   "source": [
    "def columnref(df, sheet=None):\n",
    "    ## erst Referenzliste mit Index, dann ->\n",
    "    ## Referenzliste zum splitten und replacen; I=ID R=reference L=literal N=None refreplace für I und R, split für R, erst split dann refreplace\n",
    "    for idx, i in enumerate(df.columns):\n",
    "        idxx = str(idx).zfill(2)\n",
    "        print(idxx, i)\n",
    "    if sheet == \"Produktionen\":\n",
    "        for idx, i in enumerate(df.columns):\n",
    "            idxx = str(idx).zfill(2)\n",
    "            if idx == 0:\n",
    "                print(\"Referenzliste zum splitten und replacen; I=ID R=reference L=literal N=None\\n\\nrefreplace für I und R, split für R, erst split dann refreplace\\n\")\n",
    "                print([\"I\", idxx, i])\n",
    "            elif idx in range(6, 27) or idx in range(31, 35):\n",
    "                print([\"R\", idxx, i])\n",
    "            elif idx in range(2, 6):\n",
    "                print([\"N\", idxx])\n",
    "            else:\n",
    "                print([\"L\", idxx, i])"
   ]
  },
  {
   "cell_type": "code",
   "execution_count": 817,
   "metadata": {},
   "outputs": [],
   "source": [
    "def uri_list(column, predicate):\n",
    "    if isinstance(row[column], list):\n",
    "        for i in row[column]:\n",
    "             graph.add((nvt[pr_id], predicate, nvt[str(i)]))"
   ]
  },
  {
   "cell_type": "code",
   "execution_count": 818,
   "metadata": {},
   "outputs": [],
   "source": [
    "def season_list(column, column2, predicate):\n",
    "    if isinstance(row[column], list):\n",
    "        for i in row[column]:\n",
    "             graph.add((nvt[column], predicate, Literal(row[column2])))"
   ]
  },
  {
   "cell_type": "code",
   "execution_count": 819,
   "metadata": {},
   "outputs": [],
   "source": [
    "def lit_list(column, predicate):\n",
    "    if isinstance(row[column], str):\n",
    "        pr_graph.add((nvt[pr_id], predicate, Literal(row[column])))"
   ]
  },
  {
   "cell_type": "code",
   "execution_count": 820,
   "metadata": {},
   "outputs": [],
   "source": [
    "## events = pd.read_excel('./NVT_Metadatentabelle_MASTER.xlsm', sheet_name='Ereignisse')"
   ]
  },
  {
   "cell_type": "code",
   "execution_count": 821,
   "metadata": {},
   "outputs": [],
   "source": [
    "productions = pd.read_excel('./NVT_Metadatentabelle_MASTER.xlsm', sheet_name='Produktionen', header=1) ## load productions sheet with header in row 1 (row 0 is ignored i think)"
   ]
  },
  {
   "cell_type": "code",
   "execution_count": 822,
   "metadata": {},
   "outputs": [],
   "source": [
    "pr_clean = (productions[productions['Identifier / geeinigter Name'].str.contains('PR', na=False)] ## drops all rows that don't start with 'PR' or are NaN\n",
    "           .drop(['Musik (für GEMA)'], axis='columns') ## drops unmodeled column\n",
    "           .drop([2]) ## drops example row\n",
    "           .rename(columns={'Identifier / geeinigter Name':'ID', ## renames columns for future reference\n",
    "                                          'Produktionsname / Titel':'PR_Titel',\n",
    "                                          'Quelle (Beschreibung)':'Q_Beschreibung',\n",
    "                                          'Verwendete Texte':'Verwendete_Texte',\n",
    "                                          'Autor(en) der Texte':'Autoren_Texte',\n",
    "                                          'Beteiligte Gruppen / Compagnies':'Beteiligte_Gruppen',\n",
    "                                          'Sprecher*in':'SprecherIn',\n",
    "                                          'Darsteller allgem.':'Darsteller',\n",
    "                                          'Weitere Mitwirkende':'Mitwirkende',\n",
    "                                          'Spielzeit / Laufzeit Start':'Spielzeit_Start',\n",
    "                                          'Spielzeit / Laufzeit Ende':'Spielzeit_Ende'\n",
    "                           })\n",
    "            .sort_values(pr_clean.columns[0])\n",
    "            .reset_index(drop=True) ## resets index to be continouus\n",
    "           )"
   ]
  },
  {
   "cell_type": "code",
   "execution_count": 823,
   "metadata": {},
   "outputs": [],
   "source": [
    "pr_clean = merge_columns(pr_clean, \"Spielzeit_Start\", \"Spielzeit_Ende\", result = \"season\")\n",
    "pr_clean = merge_columns(pr_clean, \"Verwendete_Texte\", \"Autoren_Texte\", result = \"texts\") ## in Zukunft müssten die Autoren mit der Personentabelle abgeglichen werden, am besten trotzdem noch als literal\n",
    "pr_clean = merge_columns(pr_clean, \"Beschreibung\", \"Q_Beschreibung\", result = \"description\")"
   ]
  },
  {
   "cell_type": "code",
   "execution_count": 824,
   "metadata": {},
   "outputs": [],
   "source": [
    "pr_clean.iloc[:, [0]] = splitreplace(pr_clean.iloc[:, [0]])\n",
    "pr_clean.iloc[:, 6:27] = splitreplace(pr_clean.iloc[:, 6:27])\n",
    "pr_clean.iloc[:, 31:35] = splitreplace(pr_clean.iloc[:, 31:35])"
   ]
  },
  {
   "cell_type": "code",
   "execution_count": 825,
   "metadata": {},
   "outputs": [],
   "source": [
    "# pr_clean.to_excel(\"output_pr_clean.xlsx\")"
   ]
  },
  {
   "cell_type": "code",
   "execution_count": 826,
   "metadata": {},
   "outputs": [
    {
     "data": {
      "text/plain": [
       "'12 Träume des Dr. Fridkin'"
      ]
     },
     "execution_count": 826,
     "metadata": {},
     "output_type": "execute_result"
    }
   ],
   "source": [
    "pr_clean.loc[0,:][1]"
   ]
  },
  {
   "cell_type": "code",
   "execution_count": null,
   "metadata": {},
   "outputs": [],
   "source": []
  },
  {
   "cell_type": "code",
   "execution_count": 827,
   "metadata": {},
   "outputs": [
    {
     "name": "stdout",
     "output_type": "stream",
     "text": [
      "00 ID\n",
      "01 PR_Titel\n",
      "02 Beschreibung\n",
      "03 Q_Beschreibung\n",
      "04 Verwendete_Texte\n",
      "05 Autoren_Texte\n",
      "06 Produktionstyp\n",
      "07 Beteiligte_Gruppen\n",
      "08 Konzept\n",
      "09 Textbearbeitung\n",
      "10 Übersetzung\n",
      "11 Regie\n",
      "12 SprecherIn\n",
      "13 Choreographie\n",
      "14 Dramaturgie\n",
      "15 Bühnenbild\n",
      "16 Kostümdesgin\n",
      "17 Figurenbau\n",
      "18 Maskenbau\n",
      "19 Lichtdesign\n",
      "20 Videodesign\n",
      "21 Schauspieler\n",
      "22 Tänzer\n",
      "23 Darsteller\n",
      "24 Musiker\n",
      "25 Komposition\n",
      "26 Mitwirkende\n",
      "27 Premierendatum\n",
      "28 Dernierendatum\n",
      "29 Spielzeit_Start\n",
      "30 Spielzeit_Ende\n",
      "31 Veranstaltungsort\n",
      "32 Stadt\n",
      "33 Land\n",
      "34 Spielzeit\n",
      "35 Texte_Autoren\n",
      "36 Beschreibung_Quelle\n",
      "Referenzliste zum splitten und replacen; I=ID R=reference L=literal N=None\n",
      "\n",
      "refreplace für I und R, split für R, erst split dann refreplace\n",
      "\n",
      "['I', '00', 'ID']\n",
      "['L', '01', 'PR_Titel']\n",
      "['N', '02']\n",
      "['N', '03']\n",
      "['N', '04']\n",
      "['N', '05']\n",
      "['R', '06', 'Produktionstyp']\n",
      "['R', '07', 'Beteiligte_Gruppen']\n",
      "['R', '08', 'Konzept']\n",
      "['R', '09', 'Textbearbeitung']\n",
      "['R', '10', 'Übersetzung']\n",
      "['R', '11', 'Regie']\n",
      "['R', '12', 'SprecherIn']\n",
      "['R', '13', 'Choreographie']\n",
      "['R', '14', 'Dramaturgie']\n",
      "['R', '15', 'Bühnenbild']\n",
      "['R', '16', 'Kostümdesgin']\n",
      "['R', '17', 'Figurenbau']\n",
      "['R', '18', 'Maskenbau']\n",
      "['R', '19', 'Lichtdesign']\n",
      "['R', '20', 'Videodesign']\n",
      "['R', '21', 'Schauspieler']\n",
      "['R', '22', 'Tänzer']\n",
      "['R', '23', 'Darsteller']\n",
      "['R', '24', 'Musiker']\n",
      "['R', '25', 'Komposition']\n",
      "['R', '26', 'Mitwirkende']\n",
      "['L', '27', 'Premierendatum']\n",
      "['L', '28', 'Dernierendatum']\n",
      "['L', '29', 'Spielzeit_Start']\n",
      "['L', '30', 'Spielzeit_Ende']\n",
      "['R', '31', 'Veranstaltungsort']\n",
      "['R', '32', 'Stadt']\n",
      "['R', '33', 'Land']\n",
      "['R', '34', 'Spielzeit']\n",
      "['L', '35', 'Texte_Autoren']\n",
      "['L', '36', 'Beschreibung_Quelle']\n"
     ]
    }
   ],
   "source": [
    "columnref(pr_clean, sheet=\"Produktionen\")"
   ]
  },
  {
   "cell_type": "code",
   "execution_count": 828,
   "metadata": {},
   "outputs": [],
   "source": [
    "for index, row in pr_clean.iterrows():\n",
    "    \n",
    "    graph = pr_graph\n",
    "    pr_id = str(row[\"ID\"][0])\n",
    "    \n",
    "    pr_graph.add((nvt[pr_id], rdf.type, nvto.PerformingArtsProduction))\n",
    "    \n",
    "    lit_list(\"PR_Titel\", dcterms.title)\n",
    "    lit_list(\"PR_Titel\", skos.prefLabel)\n",
    "    lit_list(\"Premierendatum\", nvto.hasFirstPerformanceDate)\n",
    "    lit_list(\"Premierendatum\", nvto.hasLastPerformanceDate)\n",
    "    \n",
    "    uri_list(\"Produktionstyp\", dcterms.type)\n",
    "    uri_list(\"Beteiligte_Gruppen\", dcterms.contributor)\n",
    "    uri_list(\"Konzept\", nvto.hasConceptOriginator)\n",
    "    uri_list(\"Textbearbeitung\", nvto.hasAdaptor)\n",
    "    uri_list(\"Übersetzung\", nvto.hasTranslator)\n",
    "    uri_list(\"Regie\", nvto.hasDirector)\n",
    "    uri_list(\"SprecherIn\", nvto.hasSpeaker)\n",
    "    uri_list(\"Choreographie\", nvto.hasChoreographer)\n",
    "    uri_list(\"Dramaturgie\", nvto.hasDramaturge)\n",
    "    uri_list(\"Bühnenbild\", nvto.hasSetDesigner)\n",
    "    uri_list(\"Kostümdesgin\", nvto.hasCostumedesigner)\n",
    "    uri_list(\"Figurenbau\", nvto.hasPuppetDesigner)\n",
    "    uri_list(\"Maskenbau\", nvto.hasMaskDesigner)\n",
    "    uri_list(\"Lichtdesign\", nvto.hasLightDesigner)\n",
    "    uri_list(\"Videodesign\", nvto.hasVideoDesigner)\n",
    "    uri_list(\"Schauspieler\", nvto.hasActor)\n",
    "    uri_list(\"Tänzer\", nvto.hasDancer)\n",
    "    uri_list(\"Darsteller\", nvto.hasPerformer)\n",
    "    uri_list(\"Musiker\", nvto.hasMusician)\n",
    "    uri_list(\"Komposition\", nvto.hasComposer)\n",
    "    uri_list(\"Mitwirkende\", dcterms.contributor)\n",
    "    uri_list(\"Veranstaltungsort\", nvto.happenedAtPlace)\n",
    "    uri_list(\"Stadt\", nvto.happenedAtPlace)\n",
    "    uri_list(\"Land\", nvto.happenedAtPlace)\n",
    "    uri_list(\"Spielzeit\", nvto.hasSeason)\n",
    "    season_list(\"Spielzeit\", \"Spielzeit_Start\", nvto.beginsAtTime) ## ist noch buggyyyy\n",
    "    season_list(\"Spielzeit\", \"Spielzeit_Ende\", nvto.beginsAtTime)"
   ]
  },
  {
   "cell_type": "code",
   "execution_count": 829,
   "metadata": {},
   "outputs": [],
   "source": [
    "with open('productions.ttl', 'wb') as f_ttl:\n",
    "    f_ttl.write(pr_graph.serialize(format=\"turtle\"))"
   ]
  },
  {
   "cell_type": "code",
   "execution_count": null,
   "metadata": {},
   "outputs": [],
   "source": []
  },
  {
   "cell_type": "code",
   "execution_count": null,
   "metadata": {},
   "outputs": [],
   "source": []
  },
  {
   "cell_type": "code",
   "execution_count": null,
   "metadata": {},
   "outputs": [],
   "source": []
  },
  {
   "cell_type": "code",
   "execution_count": null,
   "metadata": {},
   "outputs": [],
   "source": []
  },
  {
   "cell_type": "code",
   "execution_count": null,
   "metadata": {},
   "outputs": [],
   "source": []
  },
  {
   "cell_type": "code",
   "execution_count": null,
   "metadata": {},
   "outputs": [],
   "source": []
  },
  {
   "cell_type": "code",
   "execution_count": null,
   "metadata": {},
   "outputs": [],
   "source": []
  },
  {
   "cell_type": "code",
   "execution_count": null,
   "metadata": {},
   "outputs": [],
   "source": []
  },
  {
   "cell_type": "code",
   "execution_count": null,
   "metadata": {},
   "outputs": [],
   "source": []
  },
  {
   "cell_type": "code",
   "execution_count": null,
   "metadata": {},
   "outputs": [],
   "source": []
  },
  {
   "cell_type": "code",
   "execution_count": null,
   "metadata": {},
   "outputs": [],
   "source": []
  },
  {
   "cell_type": "code",
   "execution_count": null,
   "metadata": {},
   "outputs": [],
   "source": []
  },
  {
   "cell_type": "code",
   "execution_count": null,
   "metadata": {},
   "outputs": [],
   "source": []
  },
  {
   "cell_type": "code",
   "execution_count": null,
   "metadata": {},
   "outputs": [],
   "source": []
  },
  {
   "cell_type": "code",
   "execution_count": null,
   "metadata": {},
   "outputs": [],
   "source": []
  },
  {
   "cell_type": "code",
   "execution_count": null,
   "metadata": {},
   "outputs": [],
   "source": []
  },
  {
   "cell_type": "code",
   "execution_count": null,
   "metadata": {},
   "outputs": [],
   "source": []
  },
  {
   "cell_type": "code",
   "execution_count": null,
   "metadata": {},
   "outputs": [],
   "source": []
  },
  {
   "cell_type": "code",
   "execution_count": null,
   "metadata": {},
   "outputs": [],
   "source": []
  },
  {
   "cell_type": "code",
   "execution_count": null,
   "metadata": {},
   "outputs": [],
   "source": []
  },
  {
   "cell_type": "code",
   "execution_count": null,
   "metadata": {},
   "outputs": [],
   "source": []
  },
  {
   "cell_type": "code",
   "execution_count": null,
   "metadata": {},
   "outputs": [],
   "source": []
  },
  {
   "cell_type": "code",
   "execution_count": null,
   "metadata": {},
   "outputs": [],
   "source": []
  }
 ],
 "metadata": {
  "kernelspec": {
   "display_name": "Python 3",
   "language": "python",
   "name": "python3"
  },
  "language_info": {
   "codemirror_mode": {
    "name": "ipython",
    "version": 3
   },
   "file_extension": ".py",
   "mimetype": "text/x-python",
   "name": "python",
   "nbconvert_exporter": "python",
   "pygments_lexer": "ipython3",
   "version": "3.7.3"
  }
 },
 "nbformat": 4,
 "nbformat_minor": 2
}
