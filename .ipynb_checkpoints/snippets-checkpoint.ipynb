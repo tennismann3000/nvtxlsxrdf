{
 "cells": [
  {
   "cell_type": "code",
   "execution_count": 1,
   "metadata": {},
   "outputs": [
    {
     "ename": "NameError",
     "evalue": "name 'productions' is not defined",
     "output_type": "error",
     "traceback": [
      "\u001b[1;31m---------------------------------------------------------------------------\u001b[0m",
      "\u001b[1;31mNameError\u001b[0m                                 Traceback (most recent call last)",
      "\u001b[1;32m<ipython-input-1-157c5bb5b7d7>\u001b[0m in \u001b[0;36m<module>\u001b[1;34m\u001b[0m\n\u001b[1;32m----> 1\u001b[1;33m productions = productions.rename(columns={'Identifier / geeinigter Name':'ID', \n\u001b[0m\u001b[0;32m      2\u001b[0m                                           \u001b[1;34m'Produktionsname / Titel'\u001b[0m\u001b[1;33m:\u001b[0m\u001b[1;34m'PR_Titel'\u001b[0m\u001b[1;33m,\u001b[0m\u001b[1;33m\u001b[0m\u001b[1;33m\u001b[0m\u001b[0m\n\u001b[0;32m      3\u001b[0m                                           \u001b[1;34m'Quelle (Beschreibung)'\u001b[0m\u001b[1;33m:\u001b[0m\u001b[1;34m'Q_Beschreibung'\u001b[0m\u001b[1;33m,\u001b[0m\u001b[1;33m\u001b[0m\u001b[1;33m\u001b[0m\u001b[0m\n\u001b[0;32m      4\u001b[0m                                           \u001b[1;34m'Verwendete Texte'\u001b[0m\u001b[1;33m:\u001b[0m\u001b[1;34m'Verwendete_Texte'\u001b[0m\u001b[1;33m,\u001b[0m\u001b[1;33m\u001b[0m\u001b[1;33m\u001b[0m\u001b[0m\n\u001b[0;32m      5\u001b[0m                                           \u001b[1;34m'Autor(en) der Texte'\u001b[0m\u001b[1;33m:\u001b[0m\u001b[1;34m'Autoren_Texte'\u001b[0m\u001b[1;33m,\u001b[0m\u001b[1;33m\u001b[0m\u001b[1;33m\u001b[0m\u001b[0m\n",
      "\u001b[1;31mNameError\u001b[0m: name 'productions' is not defined"
     ]
    }
   ],
   "source": [
    "productions = productions.rename(columns={'Identifier / geeinigter Name':'ID', \n",
    "                                          'Produktionsname / Titel':'PR_Titel',\n",
    "                                          'Quelle (Beschreibung)':'Q_Beschreibung',\n",
    "                                          'Verwendete Texte':'Verwendete_Texte',\n",
    "                                          'Autor(en) der Texte':'Autoren_Texte',\n",
    "                                          'Beteiligte Gruppen / Compagnies':'Beteiligte_Gruppen',\n",
    "                                          'Sprecher*in':'SprecherIn',\n",
    "                                          'Darsteller allgem.':'Darsteller',\n",
    "                                          'Weitere Mitwirkende':'Mitwirkende',\n",
    "                                          'Spielzeit / Laufzeit Start':'Spielzeit_Start',\n",
    "                                          'Spielzeit / Laufzeit Ende':'Spielzeit_Ende'\n",
    "})"
   ]
  },
  {
   "cell_type": "code",
   "execution_count": null,
   "metadata": {},
   "outputs": [],
   "source": [
    "prclean = (productions[productions['Identifier / geeinigter Name'].str.contains('PR', na=False)] ## drops all rows that don't start with 'PR' or are NaN\n",
    "           .drop(['Musik (für GEMA)'], axis='columns') ## drops unmodeled column\n",
    "           .drop([2]) ## drops example row\n",
    "           .reset_index(drop=True) ## resets index to be continouus\n",
    "           .rename(columns={'Identifier / geeinigter Name':'ID', ## renames columns for future reference\n",
    "                                          'Produktionsname / Titel':'PR_Titel',\n",
    "                                          'Quelle (Beschreibung)':'Q_Beschreibung',\n",
    "                                          'Verwendete Texte':'Verwendete_Texte',\n",
    "                                          'Autor(en) der Texte':'Autoren_Texte',\n",
    "                                          'Beteiligte Gruppen / Compagnies':'Beteiligte_Gruppen',\n",
    "                                          'Sprecher*in':'SprecherIn',\n",
    "                                          'Darsteller allgem.':'Darsteller',\n",
    "                                          'Weitere Mitwirkende':'Mitwirkende',\n",
    "                                          'Spielzeit / Laufzeit Start':'Spielzeit_Start',\n",
    "                                          'Spielzeit / Laufzeit Ende':'Spielzeit_Ende'\n",
    "}))"
   ]
  }
 ],
 "metadata": {
  "kernelspec": {
   "display_name": "Python 3",
   "language": "python",
   "name": "python3"
  },
  "language_info": {
   "codemirror_mode": {
    "name": "ipython",
    "version": 3
   },
   "file_extension": ".py",
   "mimetype": "text/x-python",
   "name": "python",
   "nbconvert_exporter": "python",
   "pygments_lexer": "ipython3",
   "version": "3.7.3"
  }
 },
 "nbformat": 4,
 "nbformat_minor": 2
}
