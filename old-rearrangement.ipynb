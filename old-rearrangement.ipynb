{
 "cells": [
  {
   "cell_type": "code",
   "execution_count": 2,
   "metadata": {},
   "outputs": [],
   "source": [
    "import pandas as pd\n",
    "import numpy as np\n",
    "from datetime import datetime"
   ]
  },
  {
   "cell_type": "code",
   "execution_count": 3,
   "metadata": {},
   "outputs": [],
   "source": [
    "xl = pd.ExcelFile('./NVT_Metadatentabelle_MASTER.xlsm') ## load Excel File to display sheet_names"
   ]
  },
  {
   "cell_type": "code",
   "execution_count": 4,
   "metadata": {},
   "outputs": [
    {
     "data": {
      "text/plain": [
       "['Produktionen',\n",
       " 'Ereignisse',\n",
       " 'Objekte VIDEOS',\n",
       " 'Objekte TEXT',\n",
       " 'Objekte BILD',\n",
       " 'Objekte AUDIO',\n",
       " '||_Personen',\n",
       " '||_Gruppen_Ensembles',\n",
       " '||_Veranstaltungsort',\n",
       " '||_Städte',\n",
       " '||_Länder',\n",
       " 'Sammlungen',\n",
       " 'Serie',\n",
       " 'TYPEN und GLOSSARE',\n",
       " 'Fragen und Dok',\n",
       " 'TODOs',\n",
       " 'Legende',\n",
       " 'Unterobjekt Beispiele',\n",
       " 'Übersicht']"
      ]
     },
     "execution_count": 4,
     "metadata": {},
     "output_type": "execute_result"
    }
   ],
   "source": [
    "xl.sheet_names  ## display sheet_names"
   ]
  },
  {
   "cell_type": "code",
   "execution_count": 113,
   "metadata": {},
   "outputs": [],
   "source": [
    "def merge_description(df, col1, col2, col3):\n",
    "    notnot = df.loc[df[col1].notna() & df[col2].notna(), col3] = \"Beschreibung: \" + pr_clean[col1] + \" Quelle: \" + pr_clean[col2]\n",
    "    notis = df.loc[df[col1].notna() & df[col2].isna(), col3] = \"Beschreibung: \" + pr_clean[col1]\n",
    "    isnot = df.loc[df[col1].isna() & df[col2].notna(), col3] = \" Quelle: \" + pr_clean[col2]\n",
    "    return df"
   ]
  },
  {
   "cell_type": "code",
   "execution_count": 115,
   "metadata": {},
   "outputs": [],
   "source": [
    "def merge_seasons(df, col1, col2, col3):\n",
    "    df.loc[df[col1].notna() & df[col2].notna(), col3] = \"season_\" + df[\"ID\"] + \"_\" + df[col1].apply(str).str[:4] + \"_\" + pr_clean[col2].apply(str).str[:4]\n",
    "    df.loc[df[col1].notna() & df[col2].isna(), col3] = \"season_\" + df[\"ID\"] + \"_\" + df[col1].apply(str).str[:4]\n",
    "    df.loc[df[col1].isna() & df[col2].notna(), col3] = \"season_\" + df[\"ID\"] + \"_\" + df[col2].apply(str).str[:4]\n",
    "    return df"
   ]
  },
  {
   "cell_type": "code",
   "execution_count": 8,
   "metadata": {},
   "outputs": [],
   "source": [
    "## events = pd.read_excel('./NVT_Metadatentabelle_MASTER.xlsm', sheet_name='Ereignisse')"
   ]
  },
  {
   "cell_type": "code",
   "execution_count": 40,
   "metadata": {},
   "outputs": [],
   "source": [
    "productions = pd.read_excel('./NVT_Metadatentabelle_MASTER.xlsm', sheet_name='Produktionen', header=1) ## load productions sheet with header in row 1 (row 0 is ignored i think)"
   ]
  },
  {
   "cell_type": "code",
   "execution_count": 118,
   "metadata": {},
   "outputs": [],
   "source": [
    "pr_clean = (productions[productions['Identifier / geeinigter Name'].str.contains('PR', na=False)] ## drops all rows that don't start with 'PR' or are NaN\n",
    "           .drop(['Musik (für GEMA)'], axis='columns') ## drops unmodeled column\n",
    "           .drop([2]) ## drops example row\n",
    "           .reset_index(drop=True) ## resets index to be continouus\n",
    "           .rename(columns={'Identifier / geeinigter Name':'ID', ## renames columns for future reference\n",
    "                                          'Produktionsname / Titel':'PR_Titel',\n",
    "                                          'Quelle (Beschreibung)':'Q_Beschreibung',\n",
    "                                          'Verwendete Texte':'Verwendete_Texte',\n",
    "                                          'Autor(en) der Texte':'Autoren_Texte',\n",
    "                                          'Beteiligte Gruppen / Compagnies':'Beteiligte_Gruppen',\n",
    "                                          'Sprecher*in':'SprecherIn',\n",
    "                                          'Darsteller allgem.':'Darsteller',\n",
    "                                          'Weitere Mitwirkende':'Mitwirkende',\n",
    "                                          'Spielzeit / Laufzeit Start':'Spielzeit_Start',\n",
    "                                          'Spielzeit / Laufzeit Ende':'Spielzeit_Ende'\n",
    "                           })\n",
    "           )"
   ]
  },
  {
   "cell_type": "code",
   "execution_count": 119,
   "metadata": {},
   "outputs": [],
   "source": [
    "pr_test = seasons(pr_clean, \"Spielzeit_Start\", \"Spielzeit_Ende\", \"Spielzeit\")"
   ]
  },
  {
   "cell_type": "code",
   "execution_count": 120,
   "metadata": {},
   "outputs": [
    {
     "data": {
      "text/plain": [
       "0                                                NaN\n",
       "1                                                NaN\n",
       "2                                                NaN\n",
       "3                                                NaN\n",
       "4                                                NaN\n",
       "5                                                NaN\n",
       "6                                                NaN\n",
       "7                                                NaN\n",
       "8     season_PR_Berliner_Ballonfieber_1803_1987_1978\n",
       "9                                                NaN\n",
       "10                                               NaN\n",
       "11                                               NaN\n",
       "12                                               NaN\n",
       "13                                               NaN\n",
       "14                                               NaN\n",
       "15                                               NaN\n",
       "16                                               NaN\n",
       "17                                               NaN\n",
       "18                                               NaN\n",
       "19                                               NaN\n",
       "20                                               NaN\n",
       "21                                               NaN\n",
       "22                                               NaN\n",
       "23                                               NaN\n",
       "24                                               NaN\n",
       "25                                               NaN\n",
       "26                                               NaN\n",
       "27                                               NaN\n",
       "28                                               NaN\n",
       "29                                               NaN\n",
       "                           ...                      \n",
       "68                                               NaN\n",
       "69                                               NaN\n",
       "70                                               NaN\n",
       "71                                               NaN\n",
       "72                                               NaN\n",
       "73                                               NaN\n",
       "74                                               NaN\n",
       "75                                               NaN\n",
       "76                                               NaN\n",
       "77                                               NaN\n",
       "78                                               NaN\n",
       "79                                               NaN\n",
       "80                                               NaN\n",
       "81                                               NaN\n",
       "82                                               NaN\n",
       "83                                               NaN\n",
       "84                                               NaN\n",
       "85                                               NaN\n",
       "86                                               NaN\n",
       "87                                               NaN\n",
       "88                                               NaN\n",
       "89                                               NaN\n",
       "90                                               NaN\n",
       "91                                               NaN\n",
       "92                                               NaN\n",
       "93                                               NaN\n",
       "94                                               NaN\n",
       "95                                               NaN\n",
       "96                                               NaN\n",
       "97                                               NaN\n",
       "Name: Spielzeit, Length: 98, dtype: object"
      ]
     },
     "execution_count": 120,
     "metadata": {},
     "output_type": "execute_result"
    }
   ],
   "source": [
    "pr_test[\"Spielzeit\"]"
   ]
  },
  {
   "cell_type": "code",
   "execution_count": 14,
   "metadata": {},
   "outputs": [
    {
     "data": {
      "text/plain": [
       "'season_PR_Berliner_Ballonfieber_1803_1987_1978'"
      ]
     },
     "execution_count": 14,
     "metadata": {},
     "output_type": "execute_result"
    }
   ],
   "source": [
    "pr_clean[\"Spielzeit\"][8]"
   ]
  },
  {
   "cell_type": "code",
   "execution_count": 15,
   "metadata": {},
   "outputs": [
    {
     "data": {
      "text/plain": [
       "Index(['ID', 'PR_Titel', 'Beschreibung', 'Q_Beschreibung', 'Verwendete_Texte',\n",
       "       'Autoren_Texte', 'Produktionstyp', 'Beteiligte_Gruppen', 'Konzept',\n",
       "       'Textbearbeitung', 'Übersetzung', 'Regie', 'SprecherIn',\n",
       "       'Choreographie', 'Dramaturgie', 'Bühnenbild', 'Kostümdesgin',\n",
       "       'Figurenbau', 'Maskenbau', 'Lichtdesign', 'Videodesign', 'Schauspieler',\n",
       "       'Tänzer', 'Darsteller', 'Musiker', 'Komposition', 'Mitwirkende',\n",
       "       'Premierendatum', 'Dernierendatum', 'Spielzeit_Start', 'Spielzeit_Ende',\n",
       "       'Veranstaltungsort', 'Stadt', 'Land', 'Spielzeit'],\n",
       "      dtype='object')"
      ]
     },
     "execution_count": 15,
     "metadata": {},
     "output_type": "execute_result"
    }
   ],
   "source": [
    "pr_clean.columns"
   ]
  },
  {
   "cell_type": "code",
   "execution_count": null,
   "metadata": {},
   "outputs": [],
   "source": []
  },
  {
   "cell_type": "code",
   "execution_count": 18,
   "metadata": {},
   "outputs": [],
   "source": [
    "pr_clean.loc[pr_clean[\"Beschreibung\"].notna() & pr_clean[\"Q_Beschreibung\"].notna(), \"Beschreibung_Quelle\"] = \"Beschreibung: \" + \\\n",
    "pr_clean[\"Beschreibung\"] + \" Quelle: \" + pr_clean[\"Q_Beschreibung\"]"
   ]
  },
  {
   "cell_type": "code",
   "execution_count": 19,
   "metadata": {},
   "outputs": [
    {
     "data": {
      "text/plain": [
       "'Beschreibung: Produktion des Mime-Theater \"Version\" aus Tscheljabinsk, die eine \"phantastische, surreale Welt\" erschafft, in der kopflose Körper in \"wortlose Dialoge treten\" und \"klanglose Lieber ertönen\". Quelle: TN; Programmheft Woche des Gestischen Theaters 1990'"
      ]
     },
     "execution_count": 19,
     "metadata": {},
     "output_type": "execute_result"
    }
   ],
   "source": [
    "pr_clean[\"Beschreibung_Quelle\"][0]"
   ]
  },
  {
   "cell_type": "code",
   "execution_count": null,
   "metadata": {},
   "outputs": [],
   "source": []
  },
  {
   "cell_type": "code",
   "execution_count": null,
   "metadata": {},
   "outputs": [],
   "source": []
  },
  {
   "cell_type": "code",
   "execution_count": null,
   "metadata": {},
   "outputs": [],
   "source": []
  },
  {
   "cell_type": "code",
   "execution_count": null,
   "metadata": {},
   "outputs": [],
   "source": []
  }
 ],
 "metadata": {
  "kernelspec": {
   "display_name": "Python 3",
   "language": "python",
   "name": "python3"
  },
  "language_info": {
   "codemirror_mode": {
    "name": "ipython",
    "version": 3
   },
   "file_extension": ".py",
   "mimetype": "text/x-python",
   "name": "python",
   "nbconvert_exporter": "python",
   "pygments_lexer": "ipython3",
   "version": "3.7.3"
  }
 },
 "nbformat": 4,
 "nbformat_minor": 2
}
